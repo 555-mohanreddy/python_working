{
 "cells": [
  {
   "cell_type": "code",
   "execution_count": 1,
   "metadata": {},
   "outputs": [
    {
     "data": {
      "text/plain": [
       "4"
      ]
     },
     "execution_count": 1,
     "metadata": {},
     "output_type": "execute_result"
    }
   ],
   "source": [
    "2+2"
   ]
  },
  {
   "cell_type": "code",
   "execution_count": 1,
   "metadata": {},
   "outputs": [
    {
     "data": {
      "text/plain": [
       "4"
      ]
     },
     "execution_count": 1,
     "metadata": {},
     "output_type": "execute_result"
    }
   ],
   "source": [
    "2+2"
   ]
  },
  {
   "cell_type": "code",
   "execution_count": 2,
   "metadata": {},
   "outputs": [
    {
     "name": "stdout",
     "output_type": "stream",
     "text": [
      "mpoa\n"
     ]
    }
   ],
   "source": [
    "print(\"mpoa\")"
   ]
  },
  {
   "cell_type": "code",
   "execution_count": 3,
   "metadata": {},
   "outputs": [
    {
     "data": {
      "text/plain": [
       "29350"
      ]
     },
     "execution_count": 3,
     "metadata": {},
     "output_type": "execute_result"
    }
   ],
   "source": [
    "2+29348"
   ]
  },
  {
   "cell_type": "code",
   "execution_count": 4,
   "metadata": {},
   "outputs": [
    {
     "data": {
      "text/plain": [
       "23428"
      ]
     },
     "execution_count": 4,
     "metadata": {},
     "output_type": "execute_result"
    }
   ],
   "source": [
    "4+23424"
   ]
  },
  {
   "cell_type": "code",
   "execution_count": 11,
   "metadata": {},
   "outputs": [
    {
     "data": {
      "text/plain": [
       "674460422791694397787720967333330414248804752868552365655681284528506161890507113987414147025696"
      ]
     },
     "execution_count": 11,
     "metadata": {},
     "output_type": "execute_result"
    }
   ],
   "source": [
    "22343924*72897398745327*4592035287934509*342413*32423423443*434234902*234324384709324*79823074527348650329"
   ]
  },
  {
   "cell_type": "code",
   "execution_count": 22,
   "metadata": {},
   "outputs": [
    {
     "name": "stdout",
     "output_type": "stream",
     "text": [
      "25\n"
     ]
    }
   ],
   "source": [
    "age= '25'\n",
    "print (age)"
   ]
  },
  {
   "cell_type": "code",
   "execution_count": 3,
   "metadata": {},
   "outputs": [
    {
     "name": "stdout",
     "output_type": "stream",
     "text": [
      "45\n"
     ]
    }
   ],
   "source": [
    "Age = '45'\n",
    "print(Age)"
   ]
  },
  {
   "cell_type": "code",
   "execution_count": 4,
   "metadata": {},
   "outputs": [
    {
     "name": "stdout",
     "output_type": "stream",
     "text": [
      "not\n"
     ]
    }
   ],
   "source": [
    "\n",
    "\n",
    "age_old='25'\n",
    "age_new= 10\n",
    "age_old=int(age_old)\n",
    "if age_new > age_old :\n",
    "    print( \"it is greater\" )\n",
    "    print(age_old)\n",
    "    print(age_new)\n",
    "else:\n",
    "    print('not')"
   ]
  },
  {
   "cell_type": "code",
   "execution_count": 5,
   "metadata": {},
   "outputs": [
    {
     "data": {
      "text/plain": [
       "'45'"
      ]
     },
     "execution_count": 5,
     "metadata": {},
     "output_type": "execute_result"
    }
   ],
   "source": [
    "Age"
   ]
  },
  {
   "cell_type": "code",
   "execution_count": 42,
   "metadata": {},
   "outputs": [
    {
     "name": "stdout",
     "output_type": "stream",
     "text": [
      "<class 'float'>\n"
     ]
    }
   ],
   "source": [
    "h=23132.8329\n",
    "print(type(h))"
   ]
  },
  {
   "cell_type": "code",
   "execution_count": 53,
   "metadata": {},
   "outputs": [
    {
     "name": "stdout",
     "output_type": "stream",
     "text": [
      "23132.8329\n",
      "<class 'int'>\n"
     ]
    }
   ],
   "source": [
    "print(h)\n",
    "if type(h) == float:\n",
    "    print(type(int(h)))\n",
    "else:\n",
    "    print('not')"
   ]
  },
  {
   "cell_type": "code",
   "execution_count": 58,
   "metadata": {},
   "outputs": [
    {
     "name": "stdout",
     "output_type": "stream",
     "text": [
      "Number is positive\n",
      "nuber is odd\n"
     ]
    }
   ],
   "source": [
    "num = int(input(\"Enter a number\"))\n",
    "\n",
    "if num>0:\n",
    "    print(\"Number is positive\")\n",
    "    if num%2==0:\n",
    "        print ('Number is even')\n",
    "    else:\n",
    "        print('nuber is odd')\n",
    "else:\n",
    "    print('number is zero or negative')    "
   ]
  },
  {
   "cell_type": "code",
   "execution_count": 61,
   "metadata": {},
   "outputs": [
    {
     "name": "stdout",
     "output_type": "stream",
     "text": [
      "THIS YEAR IS\n",
      "Leap year\n"
     ]
    }
   ],
   "source": [
    "year=int(input('Enter a year'))\n",
    "\n",
    "if year>0:\n",
    "    print('THIS YEAR IS')\n",
    "    if year%4==0:\n",
    "        print('Leap year')\n",
    "    else:\n",
    "        print('not a leap year')\n",
    "else:\n",
    "    print ('This is a not a valid year')"
   ]
  },
  {
   "cell_type": "code",
   "execution_count": 79,
   "metadata": {},
   "outputs": [
    {
     "name": "stdout",
     "output_type": "stream",
     "text": [
      "This the result 6.8996770460718305e+59\n"
     ]
    }
   ],
   "source": [
    "num1 = int(input('enter the frist number'))\n",
    "num2 = float(input('enter the second number'))\n",
    "operator = input('enter the operator (+,-,*,/,%)')\n",
    "\n",
    "result=0\n",
    "\n",
    "if operator=='+':\n",
    "    result=num1+num2\n",
    "elif operator=='-':\n",
    "    result=num1-num2\n",
    "elif operator=='*':\n",
    "    result=num1*num2\n",
    "elif operator=='/':\n",
    "    if num2 != 0:\n",
    "        result=num1/num2\n",
    "    else:\n",
    "        print(\"can't divide by zero\")\n",
    "elif operator=='%':\n",
    "    result=num1%num2\n",
    "    print('The the result is a odd number', result)\n",
    "else:\n",
    "    print('enter valid numbers or operator')\n",
    "print('This the result',result)"
   ]
  },
  {
   "cell_type": "code",
   "execution_count": 135,
   "metadata": {},
   "outputs": [
    {
     "name": "stdout",
     "output_type": "stream",
     "text": [
      "your price 8.25 accoding to your age 11\n"
     ]
    }
   ],
   "source": [
    "age=int(input('enter your age'))\n",
    "#student= input ('are you student (y/n):')\n",
    "\n",
    "\n",
    "if age<=5:\n",
    "    price = 0\n",
    "elif age<=10:\n",
    "    price =10\n",
    "elif age<=20:\n",
    "    student= input ('are you student (y/n):')\n",
    "    price=20\n",
    "    if student == \"y\":\n",
    "        price = age*0.75\n",
    "elif age<30:\n",
    "    price =40\n",
    "else:\n",
    "    price = 100\n",
    "\n",
    "print ( \"your price\", price, 'accoding to your age', age )\n"
   ]
  },
  {
   "cell_type": "code",
   "execution_count": 112,
   "metadata": {},
   "outputs": [
    {
     "data": {
      "text/plain": [
       "15.0"
      ]
     },
     "execution_count": 112,
     "metadata": {},
     "output_type": "execute_result"
    }
   ],
   "source": [
    "20*0.75"
   ]
  },
  {
   "cell_type": "code",
   "execution_count": 170,
   "metadata": {},
   "outputs": [
    {
     "name": "stdout",
     "output_type": "stream",
     "text": [
      "12\n",
      "10\n",
      "8\n",
      "6\n",
      "4\n",
      "2\n"
     ]
    }
   ],
   "source": [
    "for s in range(12,0,-2):\n",
    "    print(s)"
   ]
  },
  {
   "cell_type": "code",
   "execution_count": 6,
   "metadata": {},
   "outputs": [
    {
     "name": "stdout",
     "output_type": "stream",
     "text": [
      "2\n",
      "3\n",
      "5\n",
      "7\n",
      "11\n",
      "13\n",
      "17\n",
      "19\n",
      "23\n",
      "29\n",
      "31\n",
      "37\n",
      "41\n",
      "43\n",
      "47\n",
      "53\n",
      "59\n",
      "61\n",
      "67\n",
      "71\n",
      "73\n",
      "79\n",
      "83\n",
      "89\n",
      "97\n"
     ]
    }
   ],
   "source": [
    "for num in range(1,101):\n",
    "    if num>1:\n",
    "        for i in range(2,num):\n",
    "            if num%i==0:\n",
    "                break\n",
    "        else:\n",
    "            print(num)"
   ]
  },
  {
   "cell_type": "code",
   "execution_count": 179,
   "metadata": {},
   "outputs": [
    {
     "name": "stdout",
     "output_type": "stream",
     "text": [
      "1  \n",
      "2  2  \n",
      "3  3  3  \n",
      "4  4  4  4  \n"
     ]
    }
   ],
   "source": [
    "for i in range(1, 5):\n",
    "    for j in range(i):\n",
    "        print(i, end='  ')\n",
    "    print()"
   ]
  },
  {
   "cell_type": "code",
   "execution_count": 186,
   "metadata": {},
   "outputs": [
    {
     "name": "stdout",
     "output_type": "stream",
     "text": [
      "1\n",
      "this is  0\n",
      "2\n",
      "2\n",
      "this is  1\n",
      "3\n",
      "3\n",
      "3\n",
      "this is  2\n",
      "4\n",
      "4\n",
      "4\n",
      "4\n",
      "this is  3\n"
     ]
    }
   ],
   "source": [
    "for i in range(1,5):\n",
    "    for j in range(i):\n",
    "        print(i)\n",
    "    print ('this is ', j)"
   ]
  },
  {
   "cell_type": "code",
   "execution_count": 7,
   "metadata": {},
   "outputs": [
    {
     "name": "stdout",
     "output_type": "stream",
     "text": [
      "0\n",
      "0\n",
      "1\n",
      "0\n",
      "1\n",
      "2\n",
      "0\n",
      "1\n",
      "2\n",
      "3\n"
     ]
    }
   ],
   "source": [
    "for i in range(1,5):\n",
    "    for j in range(i):\n",
    "        print(j)"
   ]
  },
  {
   "cell_type": "code",
   "execution_count": null,
   "metadata": {},
   "outputs": [],
   "source": []
  }
 ],
 "metadata": {
  "kernelspec": {
   "display_name": "Python 3",
   "language": "python",
   "name": "python3"
  },
  "language_info": {
   "codemirror_mode": {
    "name": "ipython",
    "version": 3
   },
   "file_extension": ".py",
   "mimetype": "text/x-python",
   "name": "python",
   "nbconvert_exporter": "python",
   "pygments_lexer": "ipython3",
   "version": "3.13.3"
  },
  "orig_nbformat": 4
 },
 "nbformat": 4,
 "nbformat_minor": 2
}
